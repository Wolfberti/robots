{
 "cells": [
  {
   "cell_type": "code",
   "execution_count": 1,
   "metadata": {
    "collapsed": false
   },
   "outputs": [
    {
     "data": {
      "text/plain": [
       "1"
      ]
     },
     "execution_count": 1,
     "metadata": {},
     "output_type": "execute_result"
    }
   ],
   "source": [
    "# Initialize simulator.\n",
    "import wormpy\n",
    "wormpy.init()"
   ]
  },
  {
   "cell_type": "code",
   "execution_count": 2,
   "metadata": {
    "collapsed": true
   },
   "outputs": [],
   "source": [
    "# Initialize RPi communications.\n",
    "import requests, json\n",
    "rpi_url = \"http://192.168.0.25:5000/robot/\""
   ]
  },
  {
   "cell_type": "code",
   "execution_count": 3,
   "metadata": {
    "collapsed": false
   },
   "outputs": [
    {
     "name": "stdout",
     "output_type": "stream",
     "text": [
      "{u'sensors': {u'aser': 0.0, u'asel': 1.0}}\n"
     ]
    }
   ],
   "source": [
    "# Get sensory neuron states from RPi.\n",
    "sensors_url = rpi_url + \"sensors\"\n",
    "sensors_json = requests.get(sensors_url)\n",
    "print sensors_json.json()\n"
   ]
  },
  {
   "cell_type": "code",
   "execution_count": 4,
   "metadata": {
    "collapsed": false
   },
   "outputs": [
    {
     "name": "stdout",
     "output_type": "stream",
     "text": [
      "[-0.6285416483879089, -0.6518750190734863, -0.6168749928474426, -0.5818750262260437, -0.546875, -0.5118749737739563, -0.4768750071525574, -0.44187501072883606, -0.40687501430511475, -0.37187501788139343, -0.33687499165534973, -0.3018749952316284]\n"
     ]
    }
   ],
   "source": [
    "# Step simulator and get muscle activations.\n",
    "wormpy.step()\n",
    "activations = []\n",
    "for segment in range(12) :\n",
    "    activations.append(wormpy.get_ventral_muscle_activation(segment));\n",
    "print activations\n"
   ]
  },
  {
   "cell_type": "code",
   "execution_count": 5,
   "metadata": {
    "collapsed": false
   },
   "outputs": [
    {
     "name": "stdout",
     "output_type": "stream",
     "text": [
      "{u'muscles': {u'muscles': [-0.628541648388, -0.651875019073, -0.616874992847, -0.581875026226, -0.546875, -0.511874973774, -0.476875007153, -0.441875010729, -0.406875014305, -0.371875017881, -0.336874991655, -0.301874995232]}}\n"
     ]
    }
   ],
   "source": [
    "# Send muscles activations to RPi.\n",
    "muscles_json = '{ \"muscles\": [' + ','.join(map(str, activations)) + ']}'\n",
    "muscles_url = rpi_url + \"muscles\"\n",
    "headers = {'content-type': 'application/json', 'Accept-Charset': 'UTF-8'}\n",
    "response = requests.post(muscles_url, muscles_json, headers=headers)\n",
    "print response.json()"
   ]
  },
  {
   "cell_type": "code",
   "execution_count": 6,
   "metadata": {
    "collapsed": true
   },
   "outputs": [],
   "source": [
    "# Terminate simulator.\n",
    "wormpy.term()"
   ]
  },
  {
   "cell_type": "code",
   "execution_count": null,
   "metadata": {
    "collapsed": true
   },
   "outputs": [],
   "source": []
  }
 ],
 "metadata": {
  "kernelspec": {
   "display_name": "Python 2",
   "language": "python",
   "name": "python2"
  },
  "language_info": {
   "codemirror_mode": {
    "name": "ipython",
    "version": 2
   },
   "file_extension": ".py",
   "mimetype": "text/x-python",
   "name": "python",
   "nbconvert_exporter": "python",
   "pygments_lexer": "ipython2",
   "version": "2.7.13"
  }
 },
 "nbformat": 4,
 "nbformat_minor": 0
}
