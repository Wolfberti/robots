{
 "cells": [
  {
   "cell_type": "code",
   "execution_count": null,
   "metadata": {
    "collapsed": false
   },
   "outputs": [],
   "source": [
    "# Initialize simulator.\n",
    "import wormpy\n",
    "wormpy.init()"
   ]
  },
  {
   "cell_type": "code",
   "execution_count": 2,
   "metadata": {
    "collapsed": true
   },
   "outputs": [],
   "source": [
    "# Initialize RPi communications.\n",
    "import requests, json\n",
    "rpi_url = \"http://192.168.0.25:5000/robot/\""
   ]
  },
  {
   "cell_type": "code",
   "execution_count": 3,
   "metadata": {
    "collapsed": false
   },
   "outputs": [
    {
     "name": "stdout",
     "output_type": "stream",
     "text": [
      "{u'sensors': {u'aser': 0.0, u'asel': 1.0}}\n"
     ]
    }
   ],
   "source": [
    "# Get sensory neuron states from RPi.\n",
    "sensors_url = rpi_url + \"sensors\"\n",
    "sensors_json = requests.get(sensors_url)\n",
    "print sensors_json.json()\n"
   ]
  },
  {
   "cell_type": "code",
   "execution_count": null,
   "metadata": {
    "collapsed": false
   },
   "outputs": [],
   "source": [
    "# Step simulator and get segment angles.\n",
    "wormpy.step()\n",
    "angles = []\n",
    "for segment in range(12) :\n",
    "    angles.append(wormpy.get_segment_angle(segment));\n",
    "print angles\n"
   ]
  },
  {
   "cell_type": "code",
   "execution_count": 6,
   "metadata": {
    "collapsed": false
   },
   "outputs": [
    {
     "name": "stdout",
     "output_type": "stream",
     "text": [
      "{u'muscles': {u'muscles': [-0.628541648388, -0.651875019073, -0.616874992847, -0.581875026226, -0.546875, -0.511874973774, -0.476875007153, -0.441875010729, -0.406875014305, -0.371875017881, -0.336874991655, -0.301874995232]}}\n"
     ]
    }
   ],
   "source": [
    "# Send segment angles to RPi.\n",
    "muscles_json = '{ \"muscles\": [' + ','.join(map(str, angles)) + ']}'\n",
    "muscles_url = rpi_url + \"muscles\"\n",
    "headers = {'content-type': 'application/json', 'Accept-Charset': 'UTF-8'}\n",
    "response = requests.post(muscles_url, muscles_json, headers=headers)\n",
    "print response.json()"
   ]
  },
  {
   "cell_type": "code",
   "execution_count": 7,
   "metadata": {
    "collapsed": true
   },
   "outputs": [],
   "source": [
    "# Terminate simulator.\n",
    "wormpy.term()"
   ]
  },
  {
   "cell_type": "code",
   "execution_count": null,
   "metadata": {
    "collapsed": true
   },
   "outputs": [],
   "source": []
  }
 ],
 "metadata": {
  "kernelspec": {
   "display_name": "Python 2",
   "language": "python",
   "name": "python2"
  },
  "language_info": {
   "codemirror_mode": {
    "name": "ipython",
    "version": 2
   },
   "file_extension": ".py",
   "mimetype": "text/x-python",
   "name": "python",
   "nbconvert_exporter": "python",
   "pygments_lexer": "ipython2",
   "version": "2.7.13"
  }
 },
 "nbformat": 4,
 "nbformat_minor": 0
}
